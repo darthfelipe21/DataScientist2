{
  "nbformat": 4,
  "nbformat_minor": 0,
  "metadata": {
    "colab": {
      "provenance": [],
      "authorship_tag": "ABX9TyNxzXeRllTzE2M1e3v4te4P",
      "include_colab_link": true
    },
    "kernelspec": {
      "name": "python3",
      "display_name": "Python 3"
    },
    "language_info": {
      "name": "python"
    }
  },
  "cells": [
    {
      "cell_type": "markdown",
      "metadata": {
        "id": "view-in-github",
        "colab_type": "text"
      },
      "source": [
        "<a href=\"https://colab.research.google.com/github/darthfelipe21/DataScientist2/blob/main/pySpark_practice.ipynb\" target=\"_parent\"><img src=\"https://colab.research.google.com/assets/colab-badge.svg\" alt=\"Open In Colab\"/></a>"
      ]
    },
    {
      "cell_type": "code",
      "execution_count": 1,
      "metadata": {
        "colab": {
          "base_uri": "https://localhost:8080/"
        },
        "id": "-T94qEma7Dnm",
        "outputId": "0f88adff-fd5a-4463-971d-db0fcb68249c"
      },
      "outputs": [
        {
          "output_type": "stream",
          "name": "stdout",
          "text": [
            "Requirement already satisfied: pyspark in /usr/local/lib/python3.11/dist-packages (3.5.1)\n",
            "Requirement already satisfied: py4j==0.10.9.7 in /usr/local/lib/python3.11/dist-packages (from pyspark) (0.10.9.7)\n"
          ]
        }
      ],
      "source": [
        "!pip install pyspark"
      ]
    },
    {
      "cell_type": "code",
      "source": [
        "import pyspark\n",
        "import pandas as pd\n",
        "from pyspark.sql import SparkSession"
      ],
      "metadata": {
        "id": "Lwzpv1ul7UZ3"
      },
      "execution_count": 2,
      "outputs": []
    },
    {
      "cell_type": "code",
      "source": [
        "# Iniciar una sesión en Spark para poder trabajar con el framework\n",
        "spark = SparkSession.builder.appName('Practice').getOrCreate()"
      ],
      "metadata": {
        "id": "sGcvr-qh7i6u"
      },
      "execution_count": 3,
      "outputs": []
    },
    {
      "cell_type": "code",
      "source": [
        "spark"
      ],
      "metadata": {
        "colab": {
          "base_uri": "https://localhost:8080/",
          "height": 219
        },
        "id": "FT4Naioi8u-r",
        "outputId": "8ba60a29-6fb5-4a65-a3dd-dcda9a7828df"
      },
      "execution_count": 4,
      "outputs": [
        {
          "output_type": "execute_result",
          "data": {
            "text/plain": [
              "<pyspark.sql.session.SparkSession at 0x7dfe32baa190>"
            ],
            "text/html": [
              "\n",
              "            <div>\n",
              "                <p><b>SparkSession - in-memory</b></p>\n",
              "                \n",
              "        <div>\n",
              "            <p><b>SparkContext</b></p>\n",
              "\n",
              "            <p><a href=\"http://23c4e1e58d14:4040\">Spark UI</a></p>\n",
              "\n",
              "            <dl>\n",
              "              <dt>Version</dt>\n",
              "                <dd><code>v3.5.1</code></dd>\n",
              "              <dt>Master</dt>\n",
              "                <dd><code>local[*]</code></dd>\n",
              "              <dt>AppName</dt>\n",
              "                <dd><code>Practice</code></dd>\n",
              "            </dl>\n",
              "        </div>\n",
              "        \n",
              "            </div>\n",
              "        "
            ]
          },
          "metadata": {},
          "execution_count": 4
        }
      ]
    },
    {
      "cell_type": "code",
      "source": [
        "# Leer el CSV desde pyspark\n",
        "df_pyspark = spark.read.csv('customer_data.csv',)"
      ],
      "metadata": {
        "id": "dg5dQWmP8--C"
      },
      "execution_count": 5,
      "outputs": []
    },
    {
      "cell_type": "code",
      "source": [
        "df_pyspark.show()"
      ],
      "metadata": {
        "colab": {
          "base_uri": "https://localhost:8080/"
        },
        "id": "LRqkg7Jo9Q7p",
        "outputId": "1dc0533e-d7b1-4012-f56c-b8658d2651eb"
      },
      "execution_count": 6,
      "outputs": [
        {
          "output_type": "stream",
          "name": "stdout",
          "text": [
            "+----------+----+--------------------+--------------------+--------------------+\n",
            "|       _c0| _c1|                 _c2|                 _c3|                 _c4|\n",
            "+----------+----+--------------------+--------------------+--------------------+\n",
            "|ID Cliente|Edad|Ingresos Anuales ...|Puntuación de Gas...|Categoría de Prod...|\n",
            "|         1|  56|                  89|                  47|              Libros|\n",
            "|         2|  69|                  91|                  86|               Hogar|\n",
            "|         3|  46|                  46|                  23|         Electrónica|\n",
            "|         4|  32|                  28|                  66|              Libros|\n",
            "|         5|  60|                  81|                  27|         Electrónica|\n",
            "|         6|  25|                  56|                   2|           Alimentos|\n",
            "|         7|  38|                 116|                  90|         Electrónica|\n",
            "|         8|  56|                  70|                  17|         Electrónica|\n",
            "|         9|  36|                  63|                  33|         Electrónica|\n",
            "|        10|  40|                  43|                   9|               Hogar|\n",
            "|        11|  28|                  98|                  43|         Electrónica|\n",
            "|        12|  28|                  78|                  48|              Libros|\n",
            "|        13|  41|                  51|                  39|           Alimentos|\n",
            "|        14|  53|                 115|                  93|           Alimentos|\n",
            "|        15|  57|                 107|                  42|         Electrónica|\n",
            "|        16|  41|                  71|                  26|               Hogar|\n",
            "|        17|  20|                  81|                  99|               Hogar|\n",
            "|        18|  39|                  77|                  50|              Libros|\n",
            "|        19|  19|                  71|                  25|         Electrónica|\n",
            "+----------+----+--------------------+--------------------+--------------------+\n",
            "only showing top 20 rows\n",
            "\n"
          ]
        }
      ]
    },
    {
      "cell_type": "code",
      "source": [
        "# Otra manera de cargar el DataFrame, para poder alterar los nombre de las columnas de manera correcta\n",
        "df_pyspark = spark.read.option('header', 'True').csv('customer_data.csv', inferSchema=True) # InferSchema es para que la lectura pueda inferir el tipo de las columnas, ya que si no tomara todas como String"
      ],
      "metadata": {
        "id": "WhudGKBT9Urx"
      },
      "execution_count": 7,
      "outputs": []
    },
    {
      "cell_type": "code",
      "source": [
        "df_pyspark.show()"
      ],
      "metadata": {
        "colab": {
          "base_uri": "https://localhost:8080/"
        },
        "id": "dGLUjOnI9oDQ",
        "outputId": "c2ad4ef6-087a-4507-d5c2-b098e7db2c63"
      },
      "execution_count": 8,
      "outputs": [
        {
          "output_type": "stream",
          "name": "stdout",
          "text": [
            "+----------+----+---------------------+---------------------------+------------------------------+\n",
            "|ID Cliente|Edad|Ingresos Anuales (k$)|Puntuación de Gasto (1-100)|Categoría de Producto Favorito|\n",
            "+----------+----+---------------------+---------------------------+------------------------------+\n",
            "|         1|  56|                   89|                         47|                        Libros|\n",
            "|         2|  69|                   91|                         86|                         Hogar|\n",
            "|         3|  46|                   46|                         23|                   Electrónica|\n",
            "|         4|  32|                   28|                         66|                        Libros|\n",
            "|         5|  60|                   81|                         27|                   Electrónica|\n",
            "|         6|  25|                   56|                          2|                     Alimentos|\n",
            "|         7|  38|                  116|                         90|                   Electrónica|\n",
            "|         8|  56|                   70|                         17|                   Electrónica|\n",
            "|         9|  36|                   63|                         33|                   Electrónica|\n",
            "|        10|  40|                   43|                          9|                         Hogar|\n",
            "|        11|  28|                   98|                         43|                   Electrónica|\n",
            "|        12|  28|                   78|                         48|                        Libros|\n",
            "|        13|  41|                   51|                         39|                     Alimentos|\n",
            "|        14|  53|                  115|                         93|                     Alimentos|\n",
            "|        15|  57|                  107|                         42|                   Electrónica|\n",
            "|        16|  41|                   71|                         26|                         Hogar|\n",
            "|        17|  20|                   81|                         99|                         Hogar|\n",
            "|        18|  39|                   77|                         50|                        Libros|\n",
            "|        19|  19|                   71|                         25|                   Electrónica|\n",
            "|        20|  41|                   31|                         24|                     Alimentos|\n",
            "+----------+----+---------------------+---------------------------+------------------------------+\n",
            "only showing top 20 rows\n",
            "\n"
          ]
        }
      ]
    },
    {
      "cell_type": "code",
      "source": [
        "type(df_pyspark)"
      ],
      "metadata": {
        "colab": {
          "base_uri": "https://localhost:8080/",
          "height": 187
        },
        "id": "zOxBvoqJ99Rm",
        "outputId": "78541139-74eb-4900-ee1e-a9245a0fd669"
      },
      "execution_count": 9,
      "outputs": [
        {
          "output_type": "execute_result",
          "data": {
            "text/plain": [
              "pyspark.sql.dataframe.DataFrame"
            ],
            "text/html": [
              "<div style=\"max-width:800px; border: 1px solid var(--colab-border-color);\"><style>\n",
              "      pre.function-repr-contents {\n",
              "        overflow-x: auto;\n",
              "        padding: 8px 12px;\n",
              "        max-height: 500px;\n",
              "      }\n",
              "\n",
              "      pre.function-repr-contents.function-repr-contents-collapsed {\n",
              "        cursor: pointer;\n",
              "        max-height: 100px;\n",
              "      }\n",
              "    </style>\n",
              "    <pre style=\"white-space: initial; background:\n",
              "         var(--colab-secondary-surface-color); padding: 8px 12px;\n",
              "         border-bottom: 1px solid var(--colab-border-color);\"><b>pyspark.sql.dataframe.DataFrame</b><br/>def __init__(jdf: JavaObject, sql_ctx: Union[&#x27;SQLContext&#x27;, &#x27;SparkSession&#x27;])</pre><pre class=\"function-repr-contents function-repr-contents-collapsed\" style=\"\"><a class=\"filepath\" style=\"display:none\" href=\"#\">/usr/local/lib/python3.11/dist-packages/pyspark/sql/dataframe.py</a>A distributed collection of data grouped into named columns.\n",
              "\n",
              ".. versionadded:: 1.3.0\n",
              "\n",
              ".. versionchanged:: 3.4.0\n",
              "    Supports Spark Connect.\n",
              "\n",
              "Examples\n",
              "--------\n",
              "A :class:`DataFrame` is equivalent to a relational table in Spark SQL,\n",
              "and can be created using various functions in :class:`SparkSession`:\n",
              "\n",
              "&gt;&gt;&gt; people = spark.createDataFrame([\n",
              "...     {&quot;deptId&quot;: 1, &quot;age&quot;: 40, &quot;name&quot;: &quot;Hyukjin Kwon&quot;, &quot;gender&quot;: &quot;M&quot;, &quot;salary&quot;: 50},\n",
              "...     {&quot;deptId&quot;: 1, &quot;age&quot;: 50, &quot;name&quot;: &quot;Takuya Ueshin&quot;, &quot;gender&quot;: &quot;M&quot;, &quot;salary&quot;: 100},\n",
              "...     {&quot;deptId&quot;: 2, &quot;age&quot;: 60, &quot;name&quot;: &quot;Xinrong Meng&quot;, &quot;gender&quot;: &quot;F&quot;, &quot;salary&quot;: 150},\n",
              "...     {&quot;deptId&quot;: 3, &quot;age&quot;: 20, &quot;name&quot;: &quot;Haejoon Lee&quot;, &quot;gender&quot;: &quot;M&quot;, &quot;salary&quot;: 200}\n",
              "... ])\n",
              "\n",
              "Once created, it can be manipulated using the various domain-specific-language\n",
              "(DSL) functions defined in: :class:`DataFrame`, :class:`Column`.\n",
              "\n",
              "To select a column from the :class:`DataFrame`, use the apply method:\n",
              "\n",
              "&gt;&gt;&gt; age_col = people.age\n",
              "\n",
              "A more concrete example:\n",
              "\n",
              "&gt;&gt;&gt; # To create DataFrame using SparkSession\n",
              "... department = spark.createDataFrame([\n",
              "...     {&quot;id&quot;: 1, &quot;name&quot;: &quot;PySpark&quot;},\n",
              "...     {&quot;id&quot;: 2, &quot;name&quot;: &quot;ML&quot;},\n",
              "...     {&quot;id&quot;: 3, &quot;name&quot;: &quot;Spark SQL&quot;}\n",
              "... ])\n",
              "\n",
              "&gt;&gt;&gt; people.filter(people.age &gt; 30).join(\n",
              "...     department, people.deptId == department.id).groupBy(\n",
              "...     department.name, &quot;gender&quot;).agg({&quot;salary&quot;: &quot;avg&quot;, &quot;age&quot;: &quot;max&quot;}).show()\n",
              "+-------+------+-----------+--------+\n",
              "|   name|gender|avg(salary)|max(age)|\n",
              "+-------+------+-----------+--------+\n",
              "|     ML|     F|      150.0|      60|\n",
              "|PySpark|     M|       75.0|      50|\n",
              "+-------+------+-----------+--------+\n",
              "\n",
              "Notes\n",
              "-----\n",
              "A DataFrame should only be created as described above. It should not be directly\n",
              "created via using the constructor.</pre>\n",
              "      <script>\n",
              "      if (google.colab.kernel.accessAllowed && google.colab.files && google.colab.files.view) {\n",
              "        for (const element of document.querySelectorAll('.filepath')) {\n",
              "          element.style.display = 'block'\n",
              "          element.onclick = (event) => {\n",
              "            event.preventDefault();\n",
              "            event.stopPropagation();\n",
              "            google.colab.files.view(element.textContent, 80);\n",
              "          };\n",
              "        }\n",
              "      }\n",
              "      for (const element of document.querySelectorAll('.function-repr-contents')) {\n",
              "        element.onclick = (event) => {\n",
              "          event.preventDefault();\n",
              "          event.stopPropagation();\n",
              "          element.classList.toggle('function-repr-contents-collapsed');\n",
              "        };\n",
              "      }\n",
              "      </script>\n",
              "      </div>"
            ]
          },
          "metadata": {},
          "execution_count": 9
        }
      ]
    },
    {
      "cell_type": "code",
      "source": [
        "# Uso de metodos como head, pero en este caso se debe de indicar el numero de columnas a ver, ya que no muestra 5 predeterminado\n",
        "df_pyspark.head(3)"
      ],
      "metadata": {
        "colab": {
          "base_uri": "https://localhost:8080/"
        },
        "id": "3XihZ4no-RG1",
        "outputId": "819e7b33-3a0f-4a52-8e38-f6043e19487e"
      },
      "execution_count": 10,
      "outputs": [
        {
          "output_type": "execute_result",
          "data": {
            "text/plain": [
              "[Row(ID Cliente=1, Edad=56, Ingresos Anuales (k$)=89, Puntuación de Gasto (1-100)=47, Categoría de Producto Favorito='Libros'),\n",
              " Row(ID Cliente=2, Edad=69, Ingresos Anuales (k$)=91, Puntuación de Gasto (1-100)=86, Categoría de Producto Favorito='Hogar'),\n",
              " Row(ID Cliente=3, Edad=46, Ingresos Anuales (k$)=46, Puntuación de Gasto (1-100)=23, Categoría de Producto Favorito='Electrónica')]"
            ]
          },
          "metadata": {},
          "execution_count": 10
        }
      ]
    },
    {
      "cell_type": "code",
      "source": [
        "# Visualizar el esquema de la tabala o DataFrame\n",
        "df_pyspark.printSchema()"
      ],
      "metadata": {
        "colab": {
          "base_uri": "https://localhost:8080/"
        },
        "id": "6COEtPl5-Ybc",
        "outputId": "9711fe6e-0931-42ea-98fe-3b3128009d96"
      },
      "execution_count": 11,
      "outputs": [
        {
          "output_type": "stream",
          "name": "stdout",
          "text": [
            "root\n",
            " |-- ID Cliente: integer (nullable = true)\n",
            " |-- Edad: integer (nullable = true)\n",
            " |-- Ingresos Anuales (k$): integer (nullable = true)\n",
            " |-- Puntuación de Gasto (1-100): integer (nullable = true)\n",
            " |-- Categoría de Producto Favorito: string (nullable = true)\n",
            "\n"
          ]
        }
      ]
    },
    {
      "cell_type": "code",
      "source": [
        "# Ver las columnas\n",
        "df_pyspark.columns"
      ],
      "metadata": {
        "colab": {
          "base_uri": "https://localhost:8080/"
        },
        "id": "KxuCApjA-1iz",
        "outputId": "614a7920-cd4a-4df1-ac04-87eab64ad6af"
      },
      "execution_count": 12,
      "outputs": [
        {
          "output_type": "execute_result",
          "data": {
            "text/plain": [
              "['ID Cliente',\n",
              " 'Edad',\n",
              " 'Ingresos Anuales (k$)',\n",
              " 'Puntuación de Gasto (1-100)',\n",
              " 'Categoría de Producto Favorito']"
            ]
          },
          "metadata": {},
          "execution_count": 12
        }
      ]
    },
    {
      "cell_type": "code",
      "source": [
        "# Seleccionar columnas\n",
        "df_pyspark.select(['Edad', 'Categoría de Producto Favorito']).show()"
      ],
      "metadata": {
        "colab": {
          "base_uri": "https://localhost:8080/"
        },
        "id": "2G7acJ6-CFjf",
        "outputId": "005d8335-de27-4938-a876-ffa0cf50cf4e"
      },
      "execution_count": 13,
      "outputs": [
        {
          "output_type": "stream",
          "name": "stdout",
          "text": [
            "+----+------------------------------+\n",
            "|Edad|Categoría de Producto Favorito|\n",
            "+----+------------------------------+\n",
            "|  56|                        Libros|\n",
            "|  69|                         Hogar|\n",
            "|  46|                   Electrónica|\n",
            "|  32|                        Libros|\n",
            "|  60|                   Electrónica|\n",
            "|  25|                     Alimentos|\n",
            "|  38|                   Electrónica|\n",
            "|  56|                   Electrónica|\n",
            "|  36|                   Electrónica|\n",
            "|  40|                         Hogar|\n",
            "|  28|                   Electrónica|\n",
            "|  28|                        Libros|\n",
            "|  41|                     Alimentos|\n",
            "|  53|                     Alimentos|\n",
            "|  57|                   Electrónica|\n",
            "|  41|                         Hogar|\n",
            "|  20|                         Hogar|\n",
            "|  39|                        Libros|\n",
            "|  19|                   Electrónica|\n",
            "|  41|                     Alimentos|\n",
            "+----+------------------------------+\n",
            "only showing top 20 rows\n",
            "\n"
          ]
        }
      ]
    },
    {
      "cell_type": "code",
      "source": [
        "# Ver la descripcion del DataFrame\n",
        "df_pyspark.describe().show()"
      ],
      "metadata": {
        "colab": {
          "base_uri": "https://localhost:8080/"
        },
        "id": "P0L5k0waCSx-",
        "outputId": "9390605b-d1f3-4fc0-c091-080760123847"
      },
      "execution_count": 14,
      "outputs": [
        {
          "output_type": "stream",
          "name": "stdout",
          "text": [
            "+-------+------------------+-----------------+---------------------+---------------------------+------------------------------+\n",
            "|summary|        ID Cliente|             Edad|Ingresos Anuales (k$)|Puntuación de Gasto (1-100)|Categoría de Producto Favorito|\n",
            "+-------+------------------+-----------------+---------------------+---------------------------+------------------------------+\n",
            "|  count|               200|              200|                  200|                        200|                           200|\n",
            "|   mean|             100.5|           43.425|                69.58|                      49.91|                          NULL|\n",
            "| stddev|57.879184513951124|14.94191013197308|   29.693807621375804|         29.409291595698186|                          NULL|\n",
            "|    min|                 1|               18|                   20|                          1|                     Alimentos|\n",
            "|    max|               200|               69|                  119|                         99|                          Ropa|\n",
            "+-------+------------------+-----------------+---------------------+---------------------------+------------------------------+\n",
            "\n"
          ]
        }
      ]
    },
    {
      "cell_type": "code",
      "source": [
        "# Agregar columnas a un DataFrame de Pyspark y condicionales\n",
        "from pyspark.sql.functions import when\n",
        "df_pyspark = df_pyspark.withColumn('TerceraEdad', when(df_pyspark['Edad'] > 60, True).otherwise(False))\n",
        "df_pyspark.show()"
      ],
      "metadata": {
        "colab": {
          "base_uri": "https://localhost:8080/"
        },
        "id": "Rf4gJgGvDUnR",
        "outputId": "635f0d1c-8b6e-4e31-867d-76ff9035a4b8"
      },
      "execution_count": 15,
      "outputs": [
        {
          "output_type": "stream",
          "name": "stdout",
          "text": [
            "+----------+----+---------------------+---------------------------+------------------------------+-----------+\n",
            "|ID Cliente|Edad|Ingresos Anuales (k$)|Puntuación de Gasto (1-100)|Categoría de Producto Favorito|TerceraEdad|\n",
            "+----------+----+---------------------+---------------------------+------------------------------+-----------+\n",
            "|         1|  56|                   89|                         47|                        Libros|      false|\n",
            "|         2|  69|                   91|                         86|                         Hogar|       true|\n",
            "|         3|  46|                   46|                         23|                   Electrónica|      false|\n",
            "|         4|  32|                   28|                         66|                        Libros|      false|\n",
            "|         5|  60|                   81|                         27|                   Electrónica|      false|\n",
            "|         6|  25|                   56|                          2|                     Alimentos|      false|\n",
            "|         7|  38|                  116|                         90|                   Electrónica|      false|\n",
            "|         8|  56|                   70|                         17|                   Electrónica|      false|\n",
            "|         9|  36|                   63|                         33|                   Electrónica|      false|\n",
            "|        10|  40|                   43|                          9|                         Hogar|      false|\n",
            "|        11|  28|                   98|                         43|                   Electrónica|      false|\n",
            "|        12|  28|                   78|                         48|                        Libros|      false|\n",
            "|        13|  41|                   51|                         39|                     Alimentos|      false|\n",
            "|        14|  53|                  115|                         93|                     Alimentos|      false|\n",
            "|        15|  57|                  107|                         42|                   Electrónica|      false|\n",
            "|        16|  41|                   71|                         26|                         Hogar|      false|\n",
            "|        17|  20|                   81|                         99|                         Hogar|      false|\n",
            "|        18|  39|                   77|                         50|                        Libros|      false|\n",
            "|        19|  19|                   71|                         25|                   Electrónica|      false|\n",
            "|        20|  41|                   31|                         24|                     Alimentos|      false|\n",
            "+----------+----+---------------------+---------------------------+------------------------------+-----------+\n",
            "only showing top 20 rows\n",
            "\n"
          ]
        }
      ]
    },
    {
      "cell_type": "code",
      "source": [
        "# Eliminar columnas\n",
        "df_pyspark = df_pyspark.drop('TerceraEdad')\n",
        "df_pyspark.show()"
      ],
      "metadata": {
        "colab": {
          "base_uri": "https://localhost:8080/"
        },
        "id": "do4xoDfWEJEV",
        "outputId": "10eb94ff-d8be-4c31-e83f-5022c31d0636"
      },
      "execution_count": 16,
      "outputs": [
        {
          "output_type": "stream",
          "name": "stdout",
          "text": [
            "+----------+----+---------------------+---------------------------+------------------------------+\n",
            "|ID Cliente|Edad|Ingresos Anuales (k$)|Puntuación de Gasto (1-100)|Categoría de Producto Favorito|\n",
            "+----------+----+---------------------+---------------------------+------------------------------+\n",
            "|         1|  56|                   89|                         47|                        Libros|\n",
            "|         2|  69|                   91|                         86|                         Hogar|\n",
            "|         3|  46|                   46|                         23|                   Electrónica|\n",
            "|         4|  32|                   28|                         66|                        Libros|\n",
            "|         5|  60|                   81|                         27|                   Electrónica|\n",
            "|         6|  25|                   56|                          2|                     Alimentos|\n",
            "|         7|  38|                  116|                         90|                   Electrónica|\n",
            "|         8|  56|                   70|                         17|                   Electrónica|\n",
            "|         9|  36|                   63|                         33|                   Electrónica|\n",
            "|        10|  40|                   43|                          9|                         Hogar|\n",
            "|        11|  28|                   98|                         43|                   Electrónica|\n",
            "|        12|  28|                   78|                         48|                        Libros|\n",
            "|        13|  41|                   51|                         39|                     Alimentos|\n",
            "|        14|  53|                  115|                         93|                     Alimentos|\n",
            "|        15|  57|                  107|                         42|                   Electrónica|\n",
            "|        16|  41|                   71|                         26|                         Hogar|\n",
            "|        17|  20|                   81|                         99|                         Hogar|\n",
            "|        18|  39|                   77|                         50|                        Libros|\n",
            "|        19|  19|                   71|                         25|                   Electrónica|\n",
            "|        20|  41|                   31|                         24|                     Alimentos|\n",
            "+----------+----+---------------------+---------------------------+------------------------------+\n",
            "only showing top 20 rows\n",
            "\n"
          ]
        }
      ]
    },
    {
      "cell_type": "code",
      "source": [
        "# Renombrar nombre de columna\n",
        "df_pyspark.withColumnRenamed('Edad', 'edad').show()"
      ],
      "metadata": {
        "colab": {
          "base_uri": "https://localhost:8080/"
        },
        "id": "L12UyCg8GoOU",
        "outputId": "3b97344e-db0f-4e58-9e3a-e37c8d303558"
      },
      "execution_count": 17,
      "outputs": [
        {
          "output_type": "stream",
          "name": "stdout",
          "text": [
            "+----------+----+---------------------+---------------------------+------------------------------+\n",
            "|ID Cliente|edad|Ingresos Anuales (k$)|Puntuación de Gasto (1-100)|Categoría de Producto Favorito|\n",
            "+----------+----+---------------------+---------------------------+------------------------------+\n",
            "|         1|  56|                   89|                         47|                        Libros|\n",
            "|         2|  69|                   91|                         86|                         Hogar|\n",
            "|         3|  46|                   46|                         23|                   Electrónica|\n",
            "|         4|  32|                   28|                         66|                        Libros|\n",
            "|         5|  60|                   81|                         27|                   Electrónica|\n",
            "|         6|  25|                   56|                          2|                     Alimentos|\n",
            "|         7|  38|                  116|                         90|                   Electrónica|\n",
            "|         8|  56|                   70|                         17|                   Electrónica|\n",
            "|         9|  36|                   63|                         33|                   Electrónica|\n",
            "|        10|  40|                   43|                          9|                         Hogar|\n",
            "|        11|  28|                   98|                         43|                   Electrónica|\n",
            "|        12|  28|                   78|                         48|                        Libros|\n",
            "|        13|  41|                   51|                         39|                     Alimentos|\n",
            "|        14|  53|                  115|                         93|                     Alimentos|\n",
            "|        15|  57|                  107|                         42|                   Electrónica|\n",
            "|        16|  41|                   71|                         26|                         Hogar|\n",
            "|        17|  20|                   81|                         99|                         Hogar|\n",
            "|        18|  39|                   77|                         50|                        Libros|\n",
            "|        19|  19|                   71|                         25|                   Electrónica|\n",
            "|        20|  41|                   31|                         24|                     Alimentos|\n",
            "+----------+----+---------------------+---------------------------+------------------------------+\n",
            "only showing top 20 rows\n",
            "\n"
          ]
        }
      ]
    },
    {
      "cell_type": "code",
      "source": [
        "# Renombrar el nombre de todas las columnas\n",
        "df_pyspark = df_pyspark.toDF(*['id', 'edad', 'ingreso_anual', 'puntaje_gastos', 'categoria_producto'])\n",
        "df_pyspark.show()"
      ],
      "metadata": {
        "colab": {
          "base_uri": "https://localhost:8080/"
        },
        "id": "OkmCtXtoHYM0",
        "outputId": "7228fcee-7f6e-45e2-f3b4-0367790c350b"
      },
      "execution_count": 18,
      "outputs": [
        {
          "output_type": "stream",
          "name": "stdout",
          "text": [
            "+---+----+-------------+--------------+------------------+\n",
            "| id|edad|ingreso_anual|puntaje_gastos|categoria_producto|\n",
            "+---+----+-------------+--------------+------------------+\n",
            "|  1|  56|           89|            47|            Libros|\n",
            "|  2|  69|           91|            86|             Hogar|\n",
            "|  3|  46|           46|            23|       Electrónica|\n",
            "|  4|  32|           28|            66|            Libros|\n",
            "|  5|  60|           81|            27|       Electrónica|\n",
            "|  6|  25|           56|             2|         Alimentos|\n",
            "|  7|  38|          116|            90|       Electrónica|\n",
            "|  8|  56|           70|            17|       Electrónica|\n",
            "|  9|  36|           63|            33|       Electrónica|\n",
            "| 10|  40|           43|             9|             Hogar|\n",
            "| 11|  28|           98|            43|       Electrónica|\n",
            "| 12|  28|           78|            48|            Libros|\n",
            "| 13|  41|           51|            39|         Alimentos|\n",
            "| 14|  53|          115|            93|         Alimentos|\n",
            "| 15|  57|          107|            42|       Electrónica|\n",
            "| 16|  41|           71|            26|             Hogar|\n",
            "| 17|  20|           81|            99|             Hogar|\n",
            "| 18|  39|           77|            50|            Libros|\n",
            "| 19|  19|           71|            25|       Electrónica|\n",
            "| 20|  41|           31|            24|         Alimentos|\n",
            "+---+----+-------------+--------------+------------------+\n",
            "only showing top 20 rows\n",
            "\n"
          ]
        }
      ]
    },
    {
      "cell_type": "code",
      "source": [
        "# Eliminar valores nulos\n",
        "df_pyspark.na.drop()"
      ],
      "metadata": {
        "colab": {
          "base_uri": "https://localhost:8080/"
        },
        "id": "qYk_mS8nIMAr",
        "outputId": "fff79d57-7001-427d-a2ee-69360ce15b1b"
      },
      "execution_count": 19,
      "outputs": [
        {
          "output_type": "execute_result",
          "data": {
            "text/plain": [
              "DataFrame[id: int, edad: int, ingreso_anual: int, puntaje_gastos: int, categoria_producto: string]"
            ]
          },
          "metadata": {},
          "execution_count": 19
        }
      ]
    },
    {
      "cell_type": "markdown",
      "source": [
        "Se puede especificar un argumneto dentro del .drop() llamado \"how=\" el cual puede aceptar un de los siguientes 2 valores:\n",
        "- **'all'** que indica que eliminara la fila que tenga todos los valores nulos\n",
        "- **'any'** que eliminara todas las filas que tenga al menos un valor nulo\n",
        "  - al usar **'any'** se puede especificar un **'threshold'** para indicar el maximo de valores no nulos que puede haber para eliminar esa fila, por ejemplo, si ponemos **'threshold=2'** deben de haber al menos 2 valore no nulos dentro de la fila para ser borrada\n",
        "- otro parametro que se puede usar es **'subset=[nombre_columna]'** para eliminar los valores nulos dentro de esa columna"
      ],
      "metadata": {
        "id": "S8gzUvIgeW1x"
      }
    },
    {
      "cell_type": "code",
      "source": [
        "# Rellenar valores nulos\n",
        "df_pyspark.na.fill('Missing Value') # Rellena todos los valores nulos con el string indicado\n",
        "\n",
        "# Indicar las columnas a las cuales se le quiere rellenar los valores nulos\n",
        "df_pyspark.na.fill('Missing Value', ['edad', 'puntaje_gastos'])"
      ],
      "metadata": {
        "colab": {
          "base_uri": "https://localhost:8080/"
        },
        "id": "90uJiqZCdpqx",
        "outputId": "878be3ca-1a9f-463d-8dff-8ba328acdae9"
      },
      "execution_count": 20,
      "outputs": [
        {
          "output_type": "execute_result",
          "data": {
            "text/plain": [
              "DataFrame[id: int, edad: int, ingreso_anual: int, puntaje_gastos: int, categoria_producto: string]"
            ]
          },
          "metadata": {},
          "execution_count": 20
        }
      ]
    },
    {
      "cell_type": "code",
      "source": [
        "# Rellenar valores nulos con la media\n",
        "from pyspark.ml.feature import Imputer\n",
        "\n",
        "imputer = Imputer(\n",
        "    inputCols=['edad','puntaje_gastos'],\n",
        "    outputCols=[\"{}_imputed\".format(x) for x in ['edad','puntaje_gastos']]\n",
        ").setStrategy('mean') # median, max, min, std\n",
        "\n",
        "\n",
        "imputer.fit(df_pyspark).transform(df_pyspark).show()"
      ],
      "metadata": {
        "colab": {
          "base_uri": "https://localhost:8080/"
        },
        "id": "rm109XKAhplB",
        "outputId": "4aa7b6e6-0f38-4ee3-ea94-47d61c712ad0"
      },
      "execution_count": 21,
      "outputs": [
        {
          "output_type": "stream",
          "name": "stdout",
          "text": [
            "+---+----+-------------+--------------+------------------+------------+----------------------+\n",
            "| id|edad|ingreso_anual|puntaje_gastos|categoria_producto|edad_imputed|puntaje_gastos_imputed|\n",
            "+---+----+-------------+--------------+------------------+------------+----------------------+\n",
            "|  1|  56|           89|            47|            Libros|          56|                    47|\n",
            "|  2|  69|           91|            86|             Hogar|          69|                    86|\n",
            "|  3|  46|           46|            23|       Electrónica|          46|                    23|\n",
            "|  4|  32|           28|            66|            Libros|          32|                    66|\n",
            "|  5|  60|           81|            27|       Electrónica|          60|                    27|\n",
            "|  6|  25|           56|             2|         Alimentos|          25|                     2|\n",
            "|  7|  38|          116|            90|       Electrónica|          38|                    90|\n",
            "|  8|  56|           70|            17|       Electrónica|          56|                    17|\n",
            "|  9|  36|           63|            33|       Electrónica|          36|                    33|\n",
            "| 10|  40|           43|             9|             Hogar|          40|                     9|\n",
            "| 11|  28|           98|            43|       Electrónica|          28|                    43|\n",
            "| 12|  28|           78|            48|            Libros|          28|                    48|\n",
            "| 13|  41|           51|            39|         Alimentos|          41|                    39|\n",
            "| 14|  53|          115|            93|         Alimentos|          53|                    93|\n",
            "| 15|  57|          107|            42|       Electrónica|          57|                    42|\n",
            "| 16|  41|           71|            26|             Hogar|          41|                    26|\n",
            "| 17|  20|           81|            99|             Hogar|          20|                    99|\n",
            "| 18|  39|           77|            50|            Libros|          39|                    50|\n",
            "| 19|  19|           71|            25|       Electrónica|          19|                    25|\n",
            "| 20|  41|           31|            24|         Alimentos|          41|                    24|\n",
            "+---+----+-------------+--------------+------------------+------------+----------------------+\n",
            "only showing top 20 rows\n",
            "\n"
          ]
        }
      ]
    },
    {
      "cell_type": "markdown",
      "source": [
        "Esto crea un dataset con estas nuevas columnas, las cuales deberian de ser eliminadas luego de la transformacion"
      ],
      "metadata": {
        "id": "HFHjvcq_jJgo"
      }
    },
    {
      "cell_type": "code",
      "source": [
        "# Filtrado de datos\n",
        "df_pyspark.filter('edad >= 60').show()"
      ],
      "metadata": {
        "colab": {
          "base_uri": "https://localhost:8080/"
        },
        "id": "ZBDio0WLLwLh",
        "outputId": "7a8cc122-596f-4324-e6fc-0448c5aacb0e"
      },
      "execution_count": 22,
      "outputs": [
        {
          "output_type": "stream",
          "name": "stdout",
          "text": [
            "+---+----+-------------+--------------+------------------+\n",
            "| id|edad|ingreso_anual|puntaje_gastos|categoria_producto|\n",
            "+---+----+-------------+--------------+------------------+\n",
            "|  2|  69|           91|            86|             Hogar|\n",
            "|  5|  60|           81|            27|       Electrónica|\n",
            "| 21|  61|           58|            13|             Hogar|\n",
            "| 29|  61|          111|             8|         Alimentos|\n",
            "| 31|  66|          106|            14|       Electrónica|\n",
            "| 37|  64|           72|            66|       Electrónica|\n",
            "| 38|  68|           63|            32|            Libros|\n",
            "| 39|  61|          109|            87|            Libros|\n",
            "| 40|  69|           51|            63|              Ropa|\n",
            "| 43|  68|           87|            25|            Libros|\n",
            "| 52|  67|           89|            52|              Ropa|\n",
            "| 58|  64|           78|            97|       Electrónica|\n",
            "| 60|  61|           99|            53|         Alimentos|\n",
            "| 62|  64|           22|             5|              Ropa|\n",
            "| 67|  67|          109|            47|            Libros|\n",
            "| 77|  61|          101|            63|            Libros|\n",
            "| 83|  65|           69|            90|         Alimentos|\n",
            "| 91|  62|          109|            34|            Libros|\n",
            "| 93|  64|           21|            48|       Electrónica|\n",
            "| 97|  62|           88|            61|       Electrónica|\n",
            "+---+----+-------------+--------------+------------------+\n",
            "only showing top 20 rows\n",
            "\n"
          ]
        }
      ]
    },
    {
      "cell_type": "code",
      "source": [
        "# Filtro y selección de columnas especificas\n",
        "df_pyspark.filter('edad >= 50').select(['puntaje_gastos', 'categoria_producto']).show()"
      ],
      "metadata": {
        "colab": {
          "base_uri": "https://localhost:8080/"
        },
        "id": "cOJUYumAMITI",
        "outputId": "4ee48169-3ee2-4751-cf7b-0af9d256716e"
      },
      "execution_count": 23,
      "outputs": [
        {
          "output_type": "stream",
          "name": "stdout",
          "text": [
            "+--------------+------------------+\n",
            "|puntaje_gastos|categoria_producto|\n",
            "+--------------+------------------+\n",
            "|            47|            Libros|\n",
            "|            86|             Hogar|\n",
            "|            27|       Electrónica|\n",
            "|            17|       Electrónica|\n",
            "|            93|         Alimentos|\n",
            "|            42|       Electrónica|\n",
            "|            13|             Hogar|\n",
            "|             7|             Hogar|\n",
            "|            45|              Ropa|\n",
            "|             8|         Alimentos|\n",
            "|            14|       Electrónica|\n",
            "|            87|         Alimentos|\n",
            "|            66|       Electrónica|\n",
            "|            32|            Libros|\n",
            "|            87|            Libros|\n",
            "|            63|              Ropa|\n",
            "|            51|              Ropa|\n",
            "|            25|            Libros|\n",
            "|            22|         Alimentos|\n",
            "|            52|              Ropa|\n",
            "+--------------+------------------+\n",
            "only showing top 20 rows\n",
            "\n"
          ]
        }
      ]
    },
    {
      "cell_type": "code",
      "source": [
        "# Tambien se puede filtrar de la siguiente manera\n",
        "df_pyspark.filter((df_pyspark['edad'] >= 60) & (df_pyspark['categoria_producto'] == 'Electrónica') | (df_pyspark['edad'] == 50)).show()"
      ],
      "metadata": {
        "colab": {
          "base_uri": "https://localhost:8080/"
        },
        "id": "3k1Tsf_6MtrT",
        "outputId": "0748f44a-ff9e-4fdd-842b-83bdf39384f5"
      },
      "execution_count": 24,
      "outputs": [
        {
          "output_type": "stream",
          "name": "stdout",
          "text": [
            "+---+----+-------------+--------------+------------------+\n",
            "| id|edad|ingreso_anual|puntaje_gastos|categoria_producto|\n",
            "+---+----+-------------+--------------+------------------+\n",
            "|  5|  60|           81|            27|       Electrónica|\n",
            "| 26|  50|           78|            45|              Ropa|\n",
            "| 31|  66|          106|            14|       Electrónica|\n",
            "| 37|  64|           72|            66|       Electrónica|\n",
            "| 58|  64|           78|            97|       Electrónica|\n",
            "| 93|  64|           21|            48|       Electrónica|\n",
            "| 97|  62|           88|            61|       Electrónica|\n",
            "|101|  62|          118|            22|       Electrónica|\n",
            "|117|  50|          108|            69|       Electrónica|\n",
            "|128|  50|           60|            10|             Hogar|\n",
            "|168|  62|           68|            95|       Electrónica|\n",
            "|181|  62|           72|             7|       Electrónica|\n",
            "|193|  50|           44|            64|              Ropa|\n",
            "+---+----+-------------+--------------+------------------+\n",
            "\n"
          ]
        }
      ]
    },
    {
      "cell_type": "code",
      "source": [
        "# Filtraod distinto de:\n",
        "df_pyspark.filter(~(df_pyspark['edad'] == 50)).show()"
      ],
      "metadata": {
        "colab": {
          "base_uri": "https://localhost:8080/"
        },
        "id": "m6TsHt9pNxGj",
        "outputId": "c190fc25-0e04-4d09-b42c-ee3a1bd7a4c7"
      },
      "execution_count": 25,
      "outputs": [
        {
          "output_type": "stream",
          "name": "stdout",
          "text": [
            "+---+----+-------------+--------------+------------------+\n",
            "| id|edad|ingreso_anual|puntaje_gastos|categoria_producto|\n",
            "+---+----+-------------+--------------+------------------+\n",
            "|  1|  56|           89|            47|            Libros|\n",
            "|  2|  69|           91|            86|             Hogar|\n",
            "|  3|  46|           46|            23|       Electrónica|\n",
            "|  4|  32|           28|            66|            Libros|\n",
            "|  5|  60|           81|            27|       Electrónica|\n",
            "|  6|  25|           56|             2|         Alimentos|\n",
            "|  7|  38|          116|            90|       Electrónica|\n",
            "|  8|  56|           70|            17|       Electrónica|\n",
            "|  9|  36|           63|            33|       Electrónica|\n",
            "| 10|  40|           43|             9|             Hogar|\n",
            "| 11|  28|           98|            43|       Electrónica|\n",
            "| 12|  28|           78|            48|            Libros|\n",
            "| 13|  41|           51|            39|         Alimentos|\n",
            "| 14|  53|          115|            93|         Alimentos|\n",
            "| 15|  57|          107|            42|       Electrónica|\n",
            "| 16|  41|           71|            26|             Hogar|\n",
            "| 17|  20|           81|            99|             Hogar|\n",
            "| 18|  39|           77|            50|            Libros|\n",
            "| 19|  19|           71|            25|       Electrónica|\n",
            "| 20|  41|           31|            24|         Alimentos|\n",
            "+---+----+-------------+--------------+------------------+\n",
            "only showing top 20 rows\n",
            "\n"
          ]
        }
      ]
    },
    {
      "cell_type": "code",
      "source": [
        "# Funciones de agregado en este caso suma\n",
        "df_pyspark.groupBy('edad').sum().show()"
      ],
      "metadata": {
        "colab": {
          "base_uri": "https://localhost:8080/"
        },
        "id": "IvXbAagvOMIo",
        "outputId": "6950bfe6-6fa1-4de5-c5db-d9cd85f0c40e"
      },
      "execution_count": 26,
      "outputs": [
        {
          "output_type": "stream",
          "name": "stdout",
          "text": [
            "+----+-------+---------+------------------+-------------------+\n",
            "|edad|sum(id)|sum(edad)|sum(ingreso_anual)|sum(puntaje_gastos)|\n",
            "+----+-------+---------+------------------+-------------------+\n",
            "|  31|    573|      186|               536|                145|\n",
            "|  65|    212|      130|               188|                159|\n",
            "|  53|    332|      212|               313|                332|\n",
            "|  34|    178|       68|               110|                165|\n",
            "|  28|    323|      112|               376|                205|\n",
            "|  26|    479|      130|               302|                204|\n",
            "|  27|     79|       27|                30|                 92|\n",
            "|  44|    514|      176|               288|                176|\n",
            "|  22|    264|       44|               159|                167|\n",
            "|  47|    374|      141|               110|                125|\n",
            "|  52|    705|      312|               355|                319|\n",
            "|  40|    393|      160|               210|                 68|\n",
            "|  20|    401|       80|               291|                373|\n",
            "|  57|    306|      228|               378|                200|\n",
            "|  54|    480|      216|               178|                199|\n",
            "|  48|     82|       48|               108|                 90|\n",
            "|  19|    347|       95|               332|                227|\n",
            "|  64|    392|      320|               260|                296|\n",
            "|  41|    490|      287|               342|                275|\n",
            "|  43|    526|      215|               321|                233|\n",
            "+----+-------+---------+------------------+-------------------+\n",
            "only showing top 20 rows\n",
            "\n"
          ]
        }
      ]
    },
    {
      "cell_type": "code",
      "source": [
        "df_pyspark.groupBy('categoria_producto').sum().show()"
      ],
      "metadata": {
        "colab": {
          "base_uri": "https://localhost:8080/"
        },
        "id": "aHssE2WuOz0E",
        "outputId": "134412e8-7edd-4a17-9d36-793af679d0db"
      },
      "execution_count": 27,
      "outputs": [
        {
          "output_type": "stream",
          "name": "stdout",
          "text": [
            "+------------------+-------+---------+------------------+-------------------+\n",
            "|categoria_producto|sum(id)|sum(edad)|sum(ingreso_anual)|sum(puntaje_gastos)|\n",
            "+------------------+-------+---------+------------------+-------------------+\n",
            "|            Libros|   5630|     2347|              3592|               2435|\n",
            "|              Ropa|   3295|     1477|              2396|               1354|\n",
            "|         Alimentos|   3294|     1316|              2338|               1931|\n",
            "|       Electrónica|   4612|     2008|              3131|               2450|\n",
            "|             Hogar|   3269|     1537|              2459|               1812|\n",
            "+------------------+-------+---------+------------------+-------------------+\n",
            "\n"
          ]
        }
      ]
    },
    {
      "cell_type": "code",
      "source": [
        "df_pyspark.groupBy('categoria_producto').mean().show()"
      ],
      "metadata": {
        "colab": {
          "base_uri": "https://localhost:8080/"
        },
        "id": "D-wK-ke5Pefa",
        "outputId": "4dd3a5fe-393b-45f2-9a92-12e1588ebd84"
      },
      "execution_count": 28,
      "outputs": [
        {
          "output_type": "stream",
          "name": "stdout",
          "text": [
            "+------------------+------------------+------------------+------------------+-------------------+\n",
            "|categoria_producto|           avg(id)|         avg(edad)|avg(ingreso_anual)|avg(puntaje_gastos)|\n",
            "+------------------+------------------+------------------+------------------+-------------------+\n",
            "|            Libros|106.22641509433963|44.283018867924525| 67.77358490566037| 45.943396226415096|\n",
            "|              Ropa|106.29032258064517|47.645161290322584| 77.29032258064517|  43.67741935483871|\n",
            "|         Alimentos| 99.81818181818181|39.878787878787875| 70.84848484848484| 58.515151515151516|\n",
            "|       Electrónica| 102.4888888888889| 44.62222222222222| 69.57777777777778|  54.44444444444444|\n",
            "|             Hogar| 86.02631578947368| 40.44736842105263| 64.71052631578948|  47.68421052631579|\n",
            "+------------------+------------------+------------------+------------------+-------------------+\n",
            "\n"
          ]
        }
      ]
    },
    {
      "cell_type": "code",
      "source": [
        "df_pyspark.groupBy('categoria_producto').count().show()"
      ],
      "metadata": {
        "colab": {
          "base_uri": "https://localhost:8080/"
        },
        "id": "qcxj1JwdPnCK",
        "outputId": "0d997309-6454-49a5-e294-cea8e0bd86aa"
      },
      "execution_count": 29,
      "outputs": [
        {
          "output_type": "stream",
          "name": "stdout",
          "text": [
            "+------------------+-----+\n",
            "|categoria_producto|count|\n",
            "+------------------+-----+\n",
            "|            Libros|   53|\n",
            "|              Ropa|   31|\n",
            "|         Alimentos|   33|\n",
            "|       Electrónica|   45|\n",
            "|             Hogar|   38|\n",
            "+------------------+-----+\n",
            "\n"
          ]
        }
      ]
    },
    {
      "cell_type": "code",
      "source": [
        "# Total de una sola columna numerica\n",
        "df_pyspark.agg({'Edad': 'mean'}).show()"
      ],
      "metadata": {
        "colab": {
          "base_uri": "https://localhost:8080/"
        },
        "id": "jSCL4vG7PpG5",
        "outputId": "928ad3c3-311c-4171-eb64-63d30fa39a6a"
      },
      "execution_count": 30,
      "outputs": [
        {
          "output_type": "stream",
          "name": "stdout",
          "text": [
            "+---------+\n",
            "|avg(Edad)|\n",
            "+---------+\n",
            "|   43.425|\n",
            "+---------+\n",
            "\n"
          ]
        }
      ]
    },
    {
      "cell_type": "markdown",
      "source": [
        "## ML Pyspark"
      ],
      "metadata": {
        "id": "O6zfpgGzTJQr"
      }
    },
    {
      "cell_type": "code",
      "source": [
        "# One Hot Encoder\n",
        "from pyspark.ml.feature import OneHotEncoder, StringIndexer\n",
        "from pyspark.ml import Pipeline\n",
        "\n",
        "# primero indexar la columnas string a numerica\n",
        "indexer = StringIndexer(inputCol='categoria_producto', outputCol='categoria_producto_indexed')\n",
        "encoder = OneHotEncoder(inputCol='categoria_producto_indexed', outputCol='categoria_producto_encoder')\n",
        "\n",
        "\n",
        "pipeline = Pipeline(stages=[indexer, encoder])\n",
        "modelo = pipeline.fit(df_pyspark)\n",
        "df_transformado = modelo.transform(df_pyspark)"
      ],
      "metadata": {
        "id": "mYYEB9hNP00o"
      },
      "execution_count": 31,
      "outputs": []
    },
    {
      "cell_type": "code",
      "source": [
        "df_transformado.select(['categoria_producto_indexed','categoria_producto_encoder']).limit(5).show()"
      ],
      "metadata": {
        "colab": {
          "base_uri": "https://localhost:8080/"
        },
        "id": "YODfaJOIURBi",
        "outputId": "bb4fbc2b-693e-40cf-fe20-4ac830108edc"
      },
      "execution_count": 32,
      "outputs": [
        {
          "output_type": "stream",
          "name": "stdout",
          "text": [
            "+--------------------------+--------------------------+\n",
            "|categoria_producto_indexed|categoria_producto_encoder|\n",
            "+--------------------------+--------------------------+\n",
            "|                       0.0|             (4,[0],[1.0])|\n",
            "|                       2.0|             (4,[2],[1.0])|\n",
            "|                       1.0|             (4,[1],[1.0])|\n",
            "|                       0.0|             (4,[0],[1.0])|\n",
            "|                       1.0|             (4,[1],[1.0])|\n",
            "+--------------------------+--------------------------+\n",
            "\n"
          ]
        }
      ]
    },
    {
      "cell_type": "markdown",
      "source": [
        "La columna categorica se le realiza index para poder determinar la posicion donde se encuentra el valor de la columna, por ejemplo (4,[0],[1.0]), significa lo siguiente [1.0, 0.0, 0.0, 0.0] indicando que existen 4 valores categoricos y en el indice 0, es el valor que representa ese valor de la fila.\n",
        "\n",
        "La columna _indexed, solo representa al indice, eso quiere decir que para problemas de machine learning, se debe de usar la columna encoder"
      ],
      "metadata": {
        "id": "oVeVyQcZbcac"
      }
    },
    {
      "cell_type": "code",
      "source": [
        "df_transformado = df_transformado.drop('categoria_producto_indexed', 'categoria_producto')\n",
        "df_transformado.show()"
      ],
      "metadata": {
        "colab": {
          "base_uri": "https://localhost:8080/"
        },
        "id": "hGhYuVkLcuYV",
        "outputId": "54a8098f-1446-4e21-a231-c6a06c71185b"
      },
      "execution_count": 33,
      "outputs": [
        {
          "output_type": "stream",
          "name": "stdout",
          "text": [
            "+---+----+-------------+--------------+--------------------------+\n",
            "| id|edad|ingreso_anual|puntaje_gastos|categoria_producto_encoder|\n",
            "+---+----+-------------+--------------+--------------------------+\n",
            "|  1|  56|           89|            47|             (4,[0],[1.0])|\n",
            "|  2|  69|           91|            86|             (4,[2],[1.0])|\n",
            "|  3|  46|           46|            23|             (4,[1],[1.0])|\n",
            "|  4|  32|           28|            66|             (4,[0],[1.0])|\n",
            "|  5|  60|           81|            27|             (4,[1],[1.0])|\n",
            "|  6|  25|           56|             2|             (4,[3],[1.0])|\n",
            "|  7|  38|          116|            90|             (4,[1],[1.0])|\n",
            "|  8|  56|           70|            17|             (4,[1],[1.0])|\n",
            "|  9|  36|           63|            33|             (4,[1],[1.0])|\n",
            "| 10|  40|           43|             9|             (4,[2],[1.0])|\n",
            "| 11|  28|           98|            43|             (4,[1],[1.0])|\n",
            "| 12|  28|           78|            48|             (4,[0],[1.0])|\n",
            "| 13|  41|           51|            39|             (4,[3],[1.0])|\n",
            "| 14|  53|          115|            93|             (4,[3],[1.0])|\n",
            "| 15|  57|          107|            42|             (4,[1],[1.0])|\n",
            "| 16|  41|           71|            26|             (4,[2],[1.0])|\n",
            "| 17|  20|           81|            99|             (4,[2],[1.0])|\n",
            "| 18|  39|           77|            50|             (4,[0],[1.0])|\n",
            "| 19|  19|           71|            25|             (4,[1],[1.0])|\n",
            "| 20|  41|           31|            24|             (4,[3],[1.0])|\n",
            "+---+----+-------------+--------------+--------------------------+\n",
            "only showing top 20 rows\n",
            "\n"
          ]
        }
      ]
    },
    {
      "cell_type": "code",
      "source": [
        "# Aplicar ml con pyspark\n",
        "from pyspark.ml.feature import VectorAssembler\n",
        "\n",
        "featureAssembler = VectorAssembler(inputCols=['edad', 'puntaje_gastos', 'categoria_producto_encoder'], outputCol='featureIndependiente')\n",
        "\n",
        "output = featureAssembler.transform(df_transformado)\n",
        "\n",
        "output.show()"
      ],
      "metadata": {
        "colab": {
          "base_uri": "https://localhost:8080/"
        },
        "id": "rhRWdeqVa2eM",
        "outputId": "2db93b06-3e5a-4103-cd76-33344e8615af"
      },
      "execution_count": 34,
      "outputs": [
        {
          "output_type": "stream",
          "name": "stdout",
          "text": [
            "+---+----+-------------+--------------+--------------------------+--------------------+\n",
            "| id|edad|ingreso_anual|puntaje_gastos|categoria_producto_encoder|featureIndependiente|\n",
            "+---+----+-------------+--------------+--------------------------+--------------------+\n",
            "|  1|  56|           89|            47|             (4,[0],[1.0])|[56.0,47.0,1.0,0....|\n",
            "|  2|  69|           91|            86|             (4,[2],[1.0])|[69.0,86.0,0.0,0....|\n",
            "|  3|  46|           46|            23|             (4,[1],[1.0])|[46.0,23.0,0.0,1....|\n",
            "|  4|  32|           28|            66|             (4,[0],[1.0])|[32.0,66.0,1.0,0....|\n",
            "|  5|  60|           81|            27|             (4,[1],[1.0])|[60.0,27.0,0.0,1....|\n",
            "|  6|  25|           56|             2|             (4,[3],[1.0])|[25.0,2.0,0.0,0.0...|\n",
            "|  7|  38|          116|            90|             (4,[1],[1.0])|[38.0,90.0,0.0,1....|\n",
            "|  8|  56|           70|            17|             (4,[1],[1.0])|[56.0,17.0,0.0,1....|\n",
            "|  9|  36|           63|            33|             (4,[1],[1.0])|[36.0,33.0,0.0,1....|\n",
            "| 10|  40|           43|             9|             (4,[2],[1.0])|[40.0,9.0,0.0,0.0...|\n",
            "| 11|  28|           98|            43|             (4,[1],[1.0])|[28.0,43.0,0.0,1....|\n",
            "| 12|  28|           78|            48|             (4,[0],[1.0])|[28.0,48.0,1.0,0....|\n",
            "| 13|  41|           51|            39|             (4,[3],[1.0])|[41.0,39.0,0.0,0....|\n",
            "| 14|  53|          115|            93|             (4,[3],[1.0])|[53.0,93.0,0.0,0....|\n",
            "| 15|  57|          107|            42|             (4,[1],[1.0])|[57.0,42.0,0.0,1....|\n",
            "| 16|  41|           71|            26|             (4,[2],[1.0])|[41.0,26.0,0.0,0....|\n",
            "| 17|  20|           81|            99|             (4,[2],[1.0])|[20.0,99.0,0.0,0....|\n",
            "| 18|  39|           77|            50|             (4,[0],[1.0])|[39.0,50.0,1.0,0....|\n",
            "| 19|  19|           71|            25|             (4,[1],[1.0])|[19.0,25.0,0.0,1....|\n",
            "| 20|  41|           31|            24|             (4,[3],[1.0])|[41.0,24.0,0.0,0....|\n",
            "+---+----+-------------+--------------+--------------------------+--------------------+\n",
            "only showing top 20 rows\n",
            "\n"
          ]
        }
      ]
    },
    {
      "cell_type": "markdown",
      "source": [
        "Cuando se quiere realizar un modelo de machine learning, todos los features, menos el que se quiere predecir, se agrupan en un solo valor"
      ],
      "metadata": {
        "id": "HqC2BsDIgPFD"
      }
    },
    {
      "cell_type": "code",
      "source": [
        "finalized_data = output.select(['ingreso_anual', 'featureIndependiente'])\n",
        "finalized_data.show()"
      ],
      "metadata": {
        "colab": {
          "base_uri": "https://localhost:8080/"
        },
        "id": "fMp1R15TgM18",
        "outputId": "8facdf98-e0d4-491d-cd1a-b7deec0fad3c"
      },
      "execution_count": 35,
      "outputs": [
        {
          "output_type": "stream",
          "name": "stdout",
          "text": [
            "+-------------+--------------------+\n",
            "|ingreso_anual|featureIndependiente|\n",
            "+-------------+--------------------+\n",
            "|           89|[56.0,47.0,1.0,0....|\n",
            "|           91|[69.0,86.0,0.0,0....|\n",
            "|           46|[46.0,23.0,0.0,1....|\n",
            "|           28|[32.0,66.0,1.0,0....|\n",
            "|           81|[60.0,27.0,0.0,1....|\n",
            "|           56|[25.0,2.0,0.0,0.0...|\n",
            "|          116|[38.0,90.0,0.0,1....|\n",
            "|           70|[56.0,17.0,0.0,1....|\n",
            "|           63|[36.0,33.0,0.0,1....|\n",
            "|           43|[40.0,9.0,0.0,0.0...|\n",
            "|           98|[28.0,43.0,0.0,1....|\n",
            "|           78|[28.0,48.0,1.0,0....|\n",
            "|           51|[41.0,39.0,0.0,0....|\n",
            "|          115|[53.0,93.0,0.0,0....|\n",
            "|          107|[57.0,42.0,0.0,1....|\n",
            "|           71|[41.0,26.0,0.0,0....|\n",
            "|           81|[20.0,99.0,0.0,0....|\n",
            "|           77|[39.0,50.0,1.0,0....|\n",
            "|           71|[19.0,25.0,0.0,1....|\n",
            "|           31|[41.0,24.0,0.0,0....|\n",
            "+-------------+--------------------+\n",
            "only showing top 20 rows\n",
            "\n"
          ]
        }
      ]
    },
    {
      "cell_type": "code",
      "source": [
        "from pyspark.ml.regression import LinearRegression\n",
        "\n",
        "# Separa la data de entrenamiento y la de prueba\n",
        "train_data, test_data = finalized_data.randomSplit([0.75, 0.25])\n",
        "regressor = LinearRegression(featuresCol='featureIndependiente', labelCol='ingreso_anual')\n",
        "regressor = regressor.fit(train_data)"
      ],
      "metadata": {
        "id": "XDcxQwYGg3lv"
      },
      "execution_count": 37,
      "outputs": []
    },
    {
      "cell_type": "code",
      "source": [
        "# Coeficientes\n",
        "regressor.coefficients"
      ],
      "metadata": {
        "colab": {
          "base_uri": "https://localhost:8080/"
        },
        "id": "KdXPqWi6OgPl",
        "outputId": "b69e9b8c-0bf6-4abd-c9f3-80e3d17f2946"
      },
      "execution_count": 38,
      "outputs": [
        {
          "output_type": "execute_result",
          "data": {
            "text/plain": [
              "DenseVector([0.1927, 0.1806, -6.6942, -10.6247, -17.3225, -9.9308])"
            ]
          },
          "metadata": {},
          "execution_count": 38
        }
      ]
    },
    {
      "cell_type": "code",
      "source": [
        "# Intercept\n",
        "regressor.intercept"
      ],
      "metadata": {
        "colab": {
          "base_uri": "https://localhost:8080/"
        },
        "id": "IlJPsLBrPGgG",
        "outputId": "5cbd29a3-e860-46f6-ba56-01bf2fbde665"
      },
      "execution_count": 39,
      "outputs": [
        {
          "output_type": "execute_result",
          "data": {
            "text/plain": [
              "62.144652485088535"
            ]
          },
          "metadata": {},
          "execution_count": 39
        }
      ]
    },
    {
      "cell_type": "code",
      "source": [
        "# Prediccion del modelo\n",
        "pred_result = regressor.evaluate(test_data)"
      ],
      "metadata": {
        "id": "XfvcISOWPLFJ"
      },
      "execution_count": 40,
      "outputs": []
    },
    {
      "cell_type": "code",
      "source": [
        "pred_result.predictions.show()"
      ],
      "metadata": {
        "colab": {
          "base_uri": "https://localhost:8080/"
        },
        "id": "t7Eu8bvZPb4Q",
        "outputId": "c6c5291d-d2ad-4c82-e6bb-2e3f29371e9a"
      },
      "execution_count": 41,
      "outputs": [
        {
          "output_type": "stream",
          "name": "stdout",
          "text": [
            "+-------------+--------------------+-----------------+\n",
            "|ingreso_anual|featureIndependiente|       prediction|\n",
            "+-------------+--------------------+-----------------+\n",
            "|           21|[32.0,98.0,1.0,0....|79.31779045032317|\n",
            "|           22|[26.0,26.0,1.0,0....| 65.1570107544034|\n",
            "|           27|[26.0,35.0,1.0,0....|66.78257361152161|\n",
            "|           33|[52.0,10.0,0.0,0....|56.64936989137479|\n",
            "|           36|[52.0,16.0,1.0,0....|68.36136277093752|\n",
            "|           38|[21.0,55.0,0.0,0....|58.80308717559977|\n",
            "|           38|[47.0,44.0,1.0,0....|72.45510540504911|\n",
            "|           38|[53.0,94.0,0.0,0....|79.40576003122766|\n",
            "|           39|[19.0,40.0,0.0,1....|62.40626885158545|\n",
            "|           39|[41.0,16.0,1.0,0....|66.24152189948504|\n",
            "|           40|(6,[0,1],[59.0,51...|82.72623092533686|\n",
            "|           40|(6,[0,1],[61.0,19...| 77.3318774907968|\n",
            "|           43|[18.0,51.0,1.0,0....|68.13076068332188|\n",
            "|           44|(6,[0,1],[50.0,64...|83.33985090493537|\n",
            "|           44|[59.0,16.0,0.0,1....|65.77994682576409|\n",
            "|           46|[32.0,33.0,0.0,0....| 64.3410872854616|\n",
            "|           47|[49.0,67.0,0.0,1....|73.06434161781048|\n",
            "|           49|[53.0,87.0,0.0,1....|77.44755474850035|\n",
            "|           52|[54.0,24.0,0.0,1....|66.26132755516855|\n",
            "|           55|[34.0,96.0,1.0,0....|79.34197987284384|\n",
            "+-------------+--------------------+-----------------+\n",
            "only showing top 20 rows\n",
            "\n"
          ]
        }
      ]
    },
    {
      "cell_type": "code",
      "source": [
        "# Comportamiento del modelo MSE\n",
        "pred_result.meanAbsoluteError, pred_result.meanSquaredError"
      ],
      "metadata": {
        "colab": {
          "base_uri": "https://localhost:8080/"
        },
        "id": "YpggimUWPhig",
        "outputId": "652cb7f9-58fc-4111-bbb8-1f100b33a289"
      },
      "execution_count": 42,
      "outputs": [
        {
          "output_type": "execute_result",
          "data": {
            "text/plain": [
              "(28.603988278384257, 997.1083709904918)"
            ]
          },
          "metadata": {},
          "execution_count": 42
        }
      ]
    },
    {
      "cell_type": "code",
      "source": [],
      "metadata": {
        "id": "idLcBTuAP9lt"
      },
      "execution_count": null,
      "outputs": []
    }
  ]
}